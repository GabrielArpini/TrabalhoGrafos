{
 "cells": [
  {
   "cell_type": "markdown",
   "id": "79130f56-f728-424a-a736-b2e593812175",
   "metadata": {},
   "source": [
    "## Trabalho Grafos Menor Caminho"
   ]
  },
  {
   "cell_type": "markdown",
   "id": "bef39ebf-b2c4-4370-b886-219288b54618",
   "metadata": {},
   "source": [
    "Alunos: Gabriel Santos Arpini e Sabrina Santiago de Oliveira"
   ]
  },
  {
   "cell_type": "markdown",
   "id": "45f1cf04-d4c4-48e6-8e47-7015c7c5f170",
   "metadata": {},
   "source": [
    "O presente trabalho demonstra uma aplicação do Algoritmo de Dijkstra, foi escolhido utilizar um ambiente no Jupyter Notebook para facilitar a demonstração do processo de criação e ilustração."
   ]
  },
  {
   "cell_type": "markdown",
   "id": "8a575d0a-1e31-4e69-b711-fefbb4142f5e",
   "metadata": {},
   "source": [
    "Primeiro, é necessário importar alguns módulos que servirão para teste e demonstração da estrutura do grafo e o algoritmo, lembrando que é necessário baixar as dependências do arquivo `./requirements.txt`:"
   ]
  },
  {
   "cell_type": "code",
   "execution_count": 30,
   "id": "66b4af3f-cf19-4270-9a5c-1e7ad29046da",
   "metadata": {
    "editable": true,
    "slideshow": {
     "slide_type": ""
    },
    "tags": []
   },
   "outputs": [],
   "source": [
    "import networkx as nx\n",
    "import matplotlib.pyplot as plt"
   ]
  },
  {
   "cell_type": "markdown",
   "id": "85979b37-1232-4984-8316-d037e216135f",
   "metadata": {
    "editable": true,
    "slideshow": {
     "slide_type": ""
    },
    "tags": []
   },
   "source": [
    "Agora, pode-se representar o grafo com a seguinte estrutura:"
   ]
  },
  {
   "cell_type": "code",
   "execution_count": 47,
   "id": "59225ce7-27aa-4aaf-a626-a52a0b0f12d3",
   "metadata": {},
   "outputs": [],
   "source": [
    "class Graph:\n",
    "    # __init__ representa os valores e váriavies iniciais desta estrutura de dados\n",
    "    def __init__ (self, tamanho, direcionado=False):\n",
    "        self.matriz_adj = [[0] * tamanho for _ in range(tamanho)]\n",
    "        self.tamanho = tamanho\n",
    "        self.predecessores = [None] * self.tamanho \n",
    "        self.direcionado = direcionado\n",
    "        self.dado = [''] * tamanho\n",
    "\n",
    "    #adiciona uma aresta ao grafo\n",
    "    def add_aresta(self, u, v, peso):\n",
    "        self.matriz_adj[u][v] = peso\n",
    "        if not self.direcionado:\n",
    "            self.matriz_adj[v][u] = peso\n",
    "            \n",
    "    #Adiciona um dado ao vértice\n",
    "    def add_dado_vertice(self,vertice, dado):\n",
    "        self.dado[vertice] = dado\n",
    "        \n",
    "    #Algoritmo de Dijkstra\n",
    "    def dijkstra(self,dado_vertice_inicial):\n",
    "        vertice_inicial = self.dado.index(dado_vertice_inicial)\n",
    "        distancias = [float('inf')] * self.tamanho #float('inf') é uma representação de infinito em Python.\n",
    "        distancias[vertice_inicial] = 0\n",
    "        visitado = [False] * self.tamanho\n",
    "        for _ in range(self.tamanho):\n",
    "            min_distancia = float(\"inf\")\n",
    "            u = None\n",
    "            for i in range(self.tamanho):\n",
    "                if not visitado[i] and distancias[i] < min_distancia:\n",
    "                    min_distancia = distancias[i]\n",
    "                    u = i\n",
    "            if u is None:\n",
    "                break\n",
    "\n",
    "            visitado[u] = True\n",
    "            \n",
    "            #Relaxamento\n",
    "            for v in range(self.tamanho):\n",
    "                if self.matriz_adj[u][v] != 0 and not visitado[v]:\n",
    "                    alt = distancias[u] + self.matriz_adj[u][v]\n",
    "                    if alt < distancias[v]:\n",
    "                        distancias[v] = alt\n",
    "                        self.predecessores[v] = u\n",
    "\n",
    "        return distancias, self.predecessores\n",
    "\n",
    "    def reconstruir_caminho(self, dado_vertice_inicial, dado_vertice_final, predecessores):\n",
    "        vertice_inicial = self.dado.index(dado_vertice_inicial)\n",
    "        vertice_final = self.dado.index(dado_vertice_final)\n",
    "        caminho = []\n",
    "        atual = vertice_final\n",
    "        \n",
    "        while atual is not None:\n",
    "            caminho.append(self.dado[atual])\n",
    "            atual = predecessores[atual]\n",
    "        \n",
    "        caminho.reverse()  #Colocar na ordem correta\n",
    "        \n",
    "        if caminho[0] == dado_vertice_inicial:\n",
    "            return caminho\n",
    "        else:\n",
    "            return None\n",
    "\n",
    "    #Utiliza-se a biblioteca NetworkX para realizar a visualização\n",
    "    def visualizar(self):\n",
    "        G = nx.DiGraph() if self.direcionado else nx.Graph()\n",
    "\n",
    "        #Adciona as arestas e pesos\n",
    "        for u in range(self.tamanho):\n",
    "            for v in range(self.tamanho):\n",
    "                if self.matriz_adj[u][v] != 0:\n",
    "                    G.add_edge(self.dado[u], self.dado[v], weight=self.matriz_adj[u][v])\n",
    "\n",
    "        #Desenha o grafo\n",
    "        pos = nx.spring_layout(G)  #Usa um algoritmo built-in da biblioteca NetworkX para posicionar os vértices\n",
    "        nx.draw(G, pos, with_labels=True, node_color=\"lightblue\", font_weight=\"bold\", node_size=2000)\n",
    "\n",
    "        #Adiciona nomes para as arestas\n",
    "        nomes_arestas = nx.get_edge_attributes(G, 'weight')\n",
    "        nx.draw_networkx_edge_labels(G, pos, edge_labels=nomes_arestas)\n",
    "\n",
    "        plt.title(\"Vizualiação da estrutura do grafo\")\n",
    "        plt.show()\n"
   ]
  },
  {
   "cell_type": "markdown",
   "id": "8b74ce23-e807-4ea6-923a-04718856c026",
   "metadata": {},
   "source": [
    "Com a estrutura de grafos feita, pode-se realizar alguns testes e verificar se funciona, primeiro cria-se a rotina de testes, a biblioteca ipytest foi feita especificamente para uso no Jupyter Notebook e executa todas as funções com `test_` no ínicio e retorna se os testes fora sucedidos ou não:"
   ]
  },
  {
   "cell_type": "code",
   "execution_count": 48,
   "id": "22857845-b45f-4120-b602-968c0de7f508",
   "metadata": {},
   "outputs": [],
   "source": [
    "import ipytest\n",
    "ipytest.autoconfig()"
   ]
  },
  {
   "cell_type": "code",
   "execution_count": 51,
   "id": "772b233d-c619-42d7-86e3-3b0f9f2e7060",
   "metadata": {},
   "outputs": [],
   "source": [
    "def test_matriz():\n",
    "    # Teste matriz de adjacencia\n",
    "    g = Graph(3)\n",
    "    g.add_dado_vertice(0, 'A')\n",
    "    g.add_dado_vertice(1, 'B')\n",
    "    g.add_dado_vertice(2, 'C')\n",
    "    \n",
    "    g.add_aresta(0, 1, 5)\n",
    "    g.add_aresta(1, 2, 3)\n",
    "    assert g.matriz_adj[0][1] == 5\n",
    "    assert g.matriz_adj[1][0] == 5\n",
    "    assert g.matriz_adj[1][2] == 3\n",
    "    assert g.matriz_adj[2][1] == 3\n",
    "    assert g.matriz_adj[0][2] == 0\n",
    "\n",
    "def test_dados_aresta():\n",
    "    # Teste dos dados da aresta\n",
    "    g = Graph(3)\n",
    "    g.add_dado_vertice(0, 'A')\n",
    "    g.add_dado_vertice(1, 'B')\n",
    "    g.add_dado_vertice(2, 'C')\n",
    "    \n",
    "    g.add_aresta(0, 1, 5)\n",
    "    g.add_aresta(1, 2, 3)\n",
    "    assert g.dado == ['A', 'B', 'C']\n",
    "\n",
    "def test_algoritmo():\n",
    "    # Teste do algoritmo de Dijkstra\n",
    "    g = Graph(3)\n",
    "    g.add_dado_vertice(0, 'A')\n",
    "    g.add_dado_vertice(1, 'B')\n",
    "    g.add_dado_vertice(2, 'C')\n",
    "    \n",
    "    g.add_aresta(0, 1, 5)\n",
    "    g.add_aresta(0, 2, 3)\n",
    "    distances = g.dijkstra('A')\n",
    "    assert distances,_ == [0, 5, 3]\n",
    "\n",
    "\n"
   ]
  },
  {
   "cell_type": "markdown",
   "id": "11dd41bb-821a-42dc-a056-0f321f9e9e77",
   "metadata": {
    "editable": true,
    "slideshow": {
     "slide_type": ""
    },
    "tags": []
   },
   "source": [
    "Depois pode-se utilizar a biblioteca `ipytest` para realizar os testes após implementar uma estrutura de grafo arbitrária em cada unidade de teste para evitar erros devido a possíveis mudanças no futuro:"
   ]
  },
  {
   "cell_type": "code",
   "execution_count": 52,
   "id": "fd105b7a-361e-4b65-920f-dde1373e84bb",
   "metadata": {},
   "outputs": [
    {
     "name": "stdout",
     "output_type": "stream",
     "text": [
      "\u001b[1m======================================= test session starts ========================================\u001b[0m\n",
      "platform linux -- Python 3.12.5, pytest-8.3.4, pluggy-1.5.0\n",
      "rootdir: /home/arpoca/Documents/TrabalhoGrafosJn\n",
      "plugins: anyio-4.4.0\n",
      "collected 3 items\n",
      "\n",
      "t_0bc2759c57394376a8bafa4cbf7a7412.py \u001b[32m.\u001b[0m\u001b[32m.\u001b[0m\u001b[32m.\u001b[0m\u001b[32m                                                    [100%]\u001b[0m\n",
      "\n",
      "\u001b[32m======================================== \u001b[32m\u001b[1m3 passed\u001b[0m\u001b[32m in 0.01s\u001b[0m\u001b[32m =========================================\u001b[0m\n"
     ]
    },
    {
     "data": {
      "text/plain": [
       "<ExitCode.OK: 0>"
      ]
     },
     "execution_count": 52,
     "metadata": {},
     "output_type": "execute_result"
    }
   ],
   "source": [
    "ipytest.run('-v')"
   ]
  },
  {
   "cell_type": "markdown",
   "id": "c288a5cb-1cff-463f-b598-520551f7adef",
   "metadata": {},
   "source": [
    "Com os testes realizados, já podemos visualizar o grafo, primeiro criamos uma função para manter uma estrutura de grafos maior e depois chamamos a função `visualizar`:"
   ]
  },
  {
   "cell_type": "code",
   "execution_count": 55,
   "id": "bd81faaa-d85a-4039-bffe-5d69f2aed3e4",
   "metadata": {},
   "outputs": [],
   "source": [
    "def representacao_1():\n",
    "    g = Graph(7)\n",
    "    g.add_dado_vertice(0,'A')\n",
    "    g.add_dado_vertice(1, 'B')\n",
    "    g.add_dado_vertice(2, 'C')\n",
    "    g.add_dado_vertice(3, 'D')\n",
    "    g.add_dado_vertice(4, 'E')\n",
    "    g.add_dado_vertice(5, 'F')\n",
    "    g.add_dado_vertice(6,'G')\n",
    "\n",
    "    g.add_aresta(3,0,4)\n",
    "    g.add_aresta(3, 4, 2)\n",
    "    g.add_aresta(0, 2, 3)\n",
    "    g.add_aresta(0, 4, 4)\n",
    "    g.add_aresta(4, 2, 4)\n",
    "    g.add_aresta(4, 6, 5)\n",
    "    g.add_aresta(2, 5, 5)\n",
    "    g.add_aresta(2, 1, 2)\n",
    "    g.add_aresta(1, 5, 2)\n",
    "    g.add_aresta(6, 5, 5)\n",
    "\n",
    "    print(\"Algoritmo de Dijkstra da vertice D:\")\n",
    "    distancias, predecessores = g.dijkstra('D')\n",
    "    for i, d in enumerate(distancias):\n",
    "        caminho = g.reconstruir_caminho('D', g.dado[i], predecessores)\n",
    "        if caminho:\n",
    "            print(f\"  Caminho: {' -> '.join(caminho)}\")\n",
    "        else:\n",
    "            print(\"Não há um caminho\")\n",
    "    g.visualizar()"
   ]
  },
  {
   "cell_type": "code",
   "execution_count": 56,
   "id": "e222bf4f-f45c-4204-8003-87019a5bb816",
   "metadata": {},
   "outputs": [
    {
     "name": "stdout",
     "output_type": "stream",
     "text": [
      "Algoritmo de Dijkstra da vertice D:\n",
      "  Caminho: D -> A\n",
      "  Caminho: D -> E -> C -> B\n",
      "  Caminho: D -> E -> C\n",
      "  Caminho: D\n",
      "  Caminho: D -> E\n",
      "  Caminho: D -> E -> C -> B -> F\n",
      "  Caminho: D -> E -> G\n"
     ]
    },
    {
     "data": {
      "image/png": "[encoded data removed]",
      "text/plain": [
       "<Figure size 640x480 with 1 Axes>"
      ]
     },
     "metadata": {},
     "output_type": "display_data"
    }
   ],
   "source": [
    "representacao_1()"
   ]
  },
  {
   "cell_type": "code",
   "execution_count": null,
   "id": "145f535d-4c2d-4c42-8669-161ce6317583",
   "metadata": {},
   "outputs": [],
   "source": []
  },
  {
   "cell_type": "code",
   "execution_count": null,
   "id": "f7d41ba5-1080-4ee1-9e1d-85cb84136407",
   "metadata": {},
   "outputs": [],
   "source": []
  }
 ],
 "metadata": {
  "kernelspec": {
   "display_name": "Python 3 (ipykernel)",
   "language": "python",
   "name": "python3"
  },
  "language_info": {
   "codemirror_mode": {
    "name": "ipython",
    "version": 3
   },
   "file_extension": ".py",
   "mimetype": "text/x-python",
   "name": "python",
   "nbconvert_exporter": "python",
   "pygments_lexer": "ipython3",
   "version": "3.12.5"
  }
 },
 "nbformat": 4,
 "nbformat_minor": 5
}
